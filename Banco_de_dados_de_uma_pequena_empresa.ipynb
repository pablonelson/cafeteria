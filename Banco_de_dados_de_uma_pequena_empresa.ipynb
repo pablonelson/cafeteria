{
  "nbformat": 4,
  "nbformat_minor": 0,
  "metadata": {
    "colab": {
      "provenance": [],
      "authorship_tag": "ABX9TyPbgUUHgMm37iP+lqGcKs7n",
      "include_colab_link": true
    },
    "kernelspec": {
      "name": "python3",
      "display_name": "Python 3"
    },
    "language_info": {
      "name": "python"
    }
  },
  "cells": [
    {
      "cell_type": "markdown",
      "metadata": {
        "id": "view-in-github",
        "colab_type": "text"
      },
      "source": [
        "<a href=\"https://colab.research.google.com/github/pablonelson/cafeteriadoxitao/blob/main/Banco_de_dados_de_uma_pequena_empresa.ipynb\" target=\"_parent\"><img src=\"https://colab.research.google.com/assets/colab-badge.svg\" alt=\"Open In Colab\"/></a>"
      ]
    },
    {
      "cell_type": "code",
      "execution_count": 20,
      "metadata": {
        "colab": {
          "base_uri": "https://localhost:8080/"
        },
        "id": "ndL-kNsTWrp4",
        "outputId": "23b2316e-daaa-4c24-b1f6-59a539189e3c"
      },
      "outputs": [
        {
          "output_type": "stream",
          "name": "stdout",
          "text": [
            "\n",
            "Menu:\n",
            "1. Adicionar Cliente\n",
            "2. Verificar Cliente\n",
            "3. Ver Clientes\n",
            "4. Remover Cliente\n",
            "5. Sair\n",
            "Digite sua escolha: 2\n",
            "Digite o número de telefone: 5\n",
            "Este número de telefone não pertence a um cliente.\n",
            "\n",
            "Menu:\n",
            "1. Adicionar Cliente\n",
            "2. Verificar Cliente\n",
            "3. Ver Clientes\n",
            "4. Remover Cliente\n",
            "5. Sair\n",
            "Digite sua escolha: 4\n",
            "Digite o número de telefone do cliente a ser removido: 4\n",
            "Cliente não encontrado.\n",
            "\n",
            "Menu:\n",
            "1. Adicionar Cliente\n",
            "2. Verificar Cliente\n",
            "3. Ver Clientes\n",
            "4. Remover Cliente\n",
            "5. Sair\n",
            "Digite sua escolha: 5\n",
            "Saindo...\n"
          ]
        }
      ],
      "source": [
        "class TelecomCompany:\n",
        "    def __init__(self, name):\n",
        "        self.name = name\n",
        "        self.customers = {}\n",
        "\n",
        "    def add_customer(self, name, phone_number):\n",
        "        if phone_number not in self.customers:\n",
        "            self.customers[phone_number] = name\n",
        "            print(f\"Cliente {name} adicionado com sucesso.\")\n",
        "        else:\n",
        "            print(\"Este número de telefone já está registrado.\")\n",
        "\n",
        "    def is_customer(self, phone_number):\n",
        "        return phone_number in self.customers\n",
        "\n",
        "    def list_customers(self):\n",
        "        print(\"Lista de Clientes:\")\n",
        "        for phone_number, name in self.customers.items():\n",
        "            print(f\"{name}: {phone_number}\")\n",
        "\n",
        "    def remove_customer(self, phone_number):\n",
        "        if phone_number in self.customers:\n",
        "            name = self.customers.pop(phone_number)\n",
        "            print(f\"Cliente {name} removido com sucesso.\")\n",
        "        else:\n",
        "            print(\"Cliente não encontrado.\")\n",
        "\n",
        "def main():\n",
        "    company = TelecomCompany(\"Minha Telecom\")\n",
        "\n",
        "    while True:\n",
        "        print(\"\\nMenu:\")\n",
        "        print(\"1. Adicionar Cliente\")\n",
        "        print(\"2. Verificar Cliente\")\n",
        "        print(\"3. Ver Clientes\")\n",
        "        print(\"4. Remover Cliente\")\n",
        "        print(\"5. Sair\")\n",
        "\n",
        "        choice = input(\"Digite sua escolha: \")\n",
        "\n",
        "        if choice == \"1\":\n",
        "            name = input(\"Nome do cliente: \")\n",
        "            phone_number = input(\"Número de telefone: \")\n",
        "            company.add_customer(name, phone_number)\n",
        "        elif choice == \"2\":\n",
        "            phone_number = input(\"Digite o número de telefone: \")\n",
        "            if company.is_customer(phone_number):\n",
        "                print(\"Este número de telefone pertence a um cliente.\")\n",
        "            else:\n",
        "                print(\"Este número de telefone não pertence a um cliente.\")\n",
        "        elif choice == \"3\":\n",
        "            company.list_customers()\n",
        "        elif choice == \"4\":\n",
        "            phone_number = input(\"Digite o número de telefone do cliente a ser removido: \")\n",
        "            company.remove_customer(phone_number)\n",
        "        elif choice == \"5\":\n",
        "            print(\"Saindo...\")\n",
        "            break\n",
        "        else:\n",
        "            print(\"Escolha inválida. Por favor, tente novamente.\")\n",
        "\n",
        "if __name__ == \"__main__\":\n",
        "    main()\n"
      ]
    }
  ]
}