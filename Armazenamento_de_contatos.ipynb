{
  "nbformat": 4,
  "nbformat_minor": 0,
  "metadata": {
    "colab": {
      "provenance": [],
      "authorship_tag": "ABX9TyP+jagSquzsFqVpYR7CNlkP",
      "include_colab_link": true
    },
    "kernelspec": {
      "name": "python3",
      "display_name": "Python 3"
    },
    "language_info": {
      "name": "python"
    }
  },
  "cells": [
    {
      "cell_type": "markdown",
      "metadata": {
        "id": "view-in-github",
        "colab_type": "text"
      },
      "source": [
        "<a href=\"https://colab.research.google.com/github/pablonelson/cafeteriadoxitao/blob/main/Armazenamento_de_contatos.ipynb\" target=\"_parent\"><img src=\"https://colab.research.google.com/assets/colab-badge.svg\" alt=\"Open In Colab\"/></a>"
      ]
    },
    {
      "cell_type": "code",
      "execution_count": 3,
      "metadata": {
        "colab": {
          "base_uri": "https://localhost:8080/"
        },
        "id": "7AZXGEIzU4YV",
        "outputId": "9886e55d-716a-4a01-f043-33d8ec0dcb0b"
      },
      "outputs": [
        {
          "output_type": "stream",
          "name": "stdout",
          "text": [
            "\n",
            "Menu:\n",
            "1. Adicionar Contato\n",
            "2. Listar Contatos\n",
            "3. Pesquisar Contato\n",
            "4. Sair\n",
            "Digite sua escolha: 1\n",
            "Digite o nome do contato: Ferreira\n",
            "Digite o telefone do contato: 11954395539\n",
            "Contato 'Ferreira' adicionado.\n",
            "\n",
            "Menu:\n",
            "1. Adicionar Contato\n",
            "2. Listar Contatos\n",
            "3. Pesquisar Contato\n",
            "4. Sair\n",
            "Digite sua escolha: 2\n",
            "Contatos:\n",
            "1. Ferreira - 11954395539\n",
            "\n",
            "Menu:\n",
            "1. Adicionar Contato\n",
            "2. Listar Contatos\n",
            "3. Pesquisar Contato\n",
            "4. Sair\n",
            "Digite sua escolha: 4\n",
            "Saindo...\n"
          ]
        }
      ],
      "source": [
        "class Contact:\n",
        "    def __init__(self, name, phone):\n",
        "        self.name = name\n",
        "        self.phone = phone\n",
        "\n",
        "class ContactManager:\n",
        "    def __init__(self):\n",
        "        self.contacts = []\n",
        "\n",
        "    def add_contact(self, name, phone):\n",
        "        contact = Contact(name, phone)\n",
        "        self.contacts.append(contact)\n",
        "        print(f\"Contato '{name}' adicionado.\")\n",
        "\n",
        "    def list_contacts(self):\n",
        "        if not self.contacts:\n",
        "            print(\"Nenhum contato para exibir.\")\n",
        "            return\n",
        "\n",
        "        print(\"Contatos:\")\n",
        "        for idx, contact in enumerate(self.contacts, start=1):\n",
        "            print(f\"{idx}. {contact.name} - {contact.phone}\")\n",
        "\n",
        "    def search_contact(self, search_name):\n",
        "        found_contacts = [contact for contact in self.contacts if search_name.lower() in contact.name.lower()]\n",
        "        if found_contacts:\n",
        "            print(\"Contatos encontrados:\")\n",
        "            for idx, contact in enumerate(found_contacts, start=1):\n",
        "                print(f\"{idx}. {contact.name} - {contact.phone}\")\n",
        "        else:\n",
        "            print(\"Nenhum contato encontrado para a pesquisa.\")\n",
        "\n",
        "def main():\n",
        "    contact_manager = ContactManager()\n",
        "\n",
        "    while True:\n",
        "        print(\"\\nMenu:\")\n",
        "        print(\"1. Adicionar Contato\")\n",
        "        print(\"2. Listar Contatos\")\n",
        "        print(\"3. Pesquisar Contato\")\n",
        "        print(\"4. Sair\")\n",
        "\n",
        "        choice = input(\"Digite sua escolha: \")\n",
        "\n",
        "        if choice == \"1\":\n",
        "            name = input(\"Digite o nome do contato: \")\n",
        "            phone = input(\"Digite o telefone do contato: \")\n",
        "            contact_manager.add_contact(name, phone)\n",
        "        elif choice == \"2\":\n",
        "            contact_manager.list_contacts()\n",
        "        elif choice == \"3\":\n",
        "            search_name = input(\"Digite o nome para pesquisa: \")\n",
        "            contact_manager.search_contact(search_name)\n",
        "        elif choice == \"4\":\n",
        "            print(\"Saindo...\")\n",
        "            break\n",
        "        else:\n",
        "            print(\"Escolha inválida. Por favor, tente novamente.\")\n",
        "\n",
        "if __name__ == \"__main__\":\n",
        "    main()\n"
      ]
    }
  ]
}